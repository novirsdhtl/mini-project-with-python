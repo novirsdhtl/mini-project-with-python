{
  "nbformat": 4,
  "nbformat_minor": 0,
  "metadata": {
    "colab": {
      "provenance": []
    },
    "kernelspec": {
      "name": "python3",
      "display_name": "Python 3"
    },
    "language_info": {
      "name": "python"
    }
  },
  "cells": [
    {
      "cell_type": "markdown",
      "source": [
        "# **Program Sederhana Perhitungan Nilai**"
      ],
      "metadata": {
        "id": "1OFsHp5Qx_Qz"
      }
    },
    {
      "cell_type": "code",
      "execution_count": 4,
      "metadata": {
        "colab": {
          "base_uri": "https://localhost:8080/"
        },
        "id": "enqxYRd2x3mx",
        "outputId": "03206acf-6e55-454f-8fe0-abbe612ebfc1"
      },
      "outputs": [
        {
          "output_type": "stream",
          "name": "stdout",
          "text": [
            "Seleksi Penerimaan Calon Karyawan\n",
            "=================================\n",
            "Masukkan Nama Karyawan : Raka\n",
            "Masukkan nilai tes CAT : 90\n",
            "Masukkan nilai tes wawancara : Bagus\n",
            "\n",
            "Selamat Raka, Anda berhasil LOLOS SELEKSI\n"
          ]
        }
      ],
      "source": [
        "print(\"Seleksi Penerimaan Calon Karyawan\")\n",
        "print(\"=================================\")\n",
        "\n",
        "nama = input(\"Masukkan Nama Karyawan : \")\n",
        "tes_CAT = int(input(\"Masukkan nilai tes CAT : \"))\n",
        "wawancara = input(\"Masukkan nilai tes wawancara : \")\n",
        "\n",
        "if tes_CAT >= 85 and wawancara == \"Bagus\":\n",
        "  print(f\"\\nSelamat {nama}, Anda berhasil LOLOS SELEKSI\")\n",
        "else:\n",
        "  print(f\"\\nMohon maaf {nama}, Anda BELUM BERHASIL LOLOS SELEKSI\")"
      ]
    }
  ]
}