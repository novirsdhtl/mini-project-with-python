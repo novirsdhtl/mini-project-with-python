{
  "nbformat": 4,
  "nbformat_minor": 0,
  "metadata": {
    "colab": {
      "provenance": []
    },
    "kernelspec": {
      "name": "python3",
      "display_name": "Python 3"
    },
    "language_info": {
      "name": "python"
    }
  },
  "cells": [
    {
      "cell_type": "markdown",
      "source": [
        "# **Program sederhana terkait perhitungan kasir dalam penjualan buah**"
      ],
      "metadata": {
        "id": "OFRaw8Qxvl4v"
      }
    },
    {
      "cell_type": "code",
      "source": [
        "print(\"PROGRAM PENJUALAN BUAH\")\n",
        "print(\"----------------------\")\n",
        "\n",
        "# Buat menu yang ditawarkan\n",
        "print(\"Daftar Harga Buah\")\n",
        "\n",
        "nama_buah = [\"Mangga\", \"Apel\", \"Anggur\", \"Jeruk\"]\n",
        "harga_buah = [15000, 30000, 25000, 10000] # Harga dalam satu kilogram\n",
        "for nama in nama_buah:\n",
        "  print(f\"Buah\", nama, \"\\t: Rp.\",harga_buah[nama_buah.index(nama)])\n",
        "\n",
        "def beli_buah():\n",
        "  total_harga = 0\n",
        "  while True:\n",
        "    pilihan = input(\"\\nBuah apa yang ingin dibeli : \")\n",
        "    if pilihan in nama_buah:\n",
        "      jumlah = float(input(\"Masukkan jumlah Kg yang Anda inginkan : \"))\n",
        "      harga = nama_buah.index(pilihan)\n",
        "      total_harga += harga_buah[harga] * jumlah\n",
        "    else:\n",
        "      print(\"Buah yang Anda inginkan tidak tersedia.\")\n",
        "      continue\n",
        "\n",
        "    lanjut = input(\"\\nApakah Anda ingin membeli buah yang lain? (y/n) : \").lower()\n",
        "    if lanjut == \"y\":\n",
        "      continue\n",
        "    else:\n",
        "      print(f\"\\nTotal harga yang harus Anda bayarkan sejumlah Rp.{int(total_harga)}\")\n",
        "      break\n",
        "\n",
        "beli_buah()"
      ],
      "metadata": {
        "colab": {
          "base_uri": "https://localhost:8080/"
        },
        "id": "VsfbciD1WtA8",
        "outputId": "1dc2d108-d791-4294-903a-ffc6800a7fa3"
      },
      "execution_count": 63,
      "outputs": [
        {
          "output_type": "stream",
          "name": "stdout",
          "text": [
            "PROGRAM PENJUALAN BUAH\n",
            "----------------------\n",
            "Daftar Harga Buah\n",
            "Buah Mangga \t: Rp. 15000\n",
            "Buah Apel \t: Rp. 30000\n",
            "Buah Anggur \t: Rp. 25000\n",
            "Buah Jeruk \t: Rp. 10000\n",
            "\n",
            "Buah apa yang ingin dibeli : Mangga\n",
            "Masukkan jumlah Kg yang Anda inginkan : 2\n",
            "\n",
            "Apakah Anda ingin membeli buah yang lain? (y/n) : y\n",
            "\n",
            "Buah apa yang ingin dibeli : Apel\n",
            "Masukkan jumlah Kg yang Anda inginkan : 1.5\n",
            "\n",
            "Apakah Anda ingin membeli buah yang lain? (y/n) : y\n",
            "\n",
            "Buah apa yang ingin dibeli : Lemon\n",
            "Buah yang Anda inginkan tidak tersedia.\n",
            "\n",
            "Buah apa yang ingin dibeli : Jeruk\n",
            "Masukkan jumlah Kg yang Anda inginkan : 1\n",
            "\n",
            "Apakah Anda ingin membeli buah yang lain? (y/n) : n\n",
            "\n",
            "Total harga yang harus Anda bayarkan sejumlah Rp.85000\n"
          ]
        }
      ]
    }
  ]
}